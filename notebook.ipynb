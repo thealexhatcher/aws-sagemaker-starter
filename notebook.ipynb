{
 "cells": [
  {
   "cell_type": "code",
   "execution_count": null,
   "source": [],
   "outputs": [],
   "metadata": {}
  }
 ],
 "metadata": {
  "orig_nbformat": 4,
  "language_info": {
   "name": "python",
   "version": "3.7.10"
  },
  "kernelspec": {
   "name": "python3",
   "display_name": "Python 3.7.10 64-bit ('env': venv)"
  },
  "interpreter": {
   "hash": "b9433c8df3a30cfc365fe9b998c13924ea2c6e5c484ad024a80802d664ac54b9"
  }
 },
 "nbformat": 4,
 "nbformat_minor": 2
}